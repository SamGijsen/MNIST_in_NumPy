{
 "cells": [
  {
   "cell_type": "code",
   "execution_count": 39,
   "id": "138ca47b",
   "metadata": {},
   "outputs": [
    {
     "name": "stdout",
     "output_type": "stream",
     "text": [
      "device= cuda\n"
     ]
    }
   ],
   "source": [
    "import numpy as np\n",
    "from tqdm.notebook import tqdm, trange # progress bars\n",
    "import time\n",
    "from sklearn.datasets import fetch_openml\n",
    "import matplotlib.pyplot as plt\n",
    "\n",
    "import torch\n",
    "import torch.nn as nn\n",
    "import torch.nn.functional as F\n",
    "\n",
    "import torchvision.transforms as transforms\n",
    "import torchvision.datasets as datasets\n",
    "from torch.utils.data import DataLoader\n",
    "\n",
    "device = torch.device(\"cuda\" if torch.cuda.is_available() else \"cpu\")\n",
    "print(\"device=\", device)"
   ]
  },
  {
   "cell_type": "markdown",
   "id": "1ca05443",
   "metadata": {},
   "source": [
    "Let's first do MNIST in PyTorch as a starting point."
   ]
  },
  {
   "cell_type": "code",
   "execution_count": 62,
   "id": "a6c22ce8",
   "metadata": {},
   "outputs": [],
   "source": [
    "# Data Loaders\n",
    "transform = transforms.Compose([\n",
    "    transforms.ToTensor(),\n",
    "    transforms.Normalize((0.1307,), (0.3081,))\n",
    "    ])\n",
    "\n",
    "mnist_train = datasets.MNIST(root='./',\n",
    "                             download=True,\n",
    "                             train=True,\n",
    "                             transform=transform)\n",
    "mnist_test = datasets.MNIST(root='.',\n",
    "                            download=False,\n",
    "                            train=False,\n",
    "                            transform=transform)\n",
    "\n",
    "batch_size = 16\n",
    "train_loader = DataLoader(mnist_train,\n",
    "                        batch_size=batch_size,\n",
    "                        shuffle=True,\n",
    "                        num_workers=2,\n",
    "                        drop_last=True)\n",
    "test_loader = DataLoader(mnist_test,\n",
    "                        batch_size=batch_size,\n",
    "                        shuffle=True,\n",
    "                        num_workers=2,\n",
    "                        drop_last=True)"
   ]
  },
  {
   "cell_type": "code",
   "execution_count": 123,
   "id": "2bf6bfbf",
   "metadata": {},
   "outputs": [
    {
     "name": "stdout",
     "output_type": "stream",
     "text": [
      "This is a 5\n"
     ]
    },
    {
     "data": {
      "image/png": "[encoded data removed]",
      "text/plain": [
       "<Figure size 432x288 with 1 Axes>"
      ]
     },
     "metadata": {
      "needs_background": "light"
     },
     "output_type": "display_data"
    }
   ],
   "source": [
    "plt.imshow(mnist_train[0][0].reshape(28, 28), cmap=\"gray\")\n",
    "print(\"This is a {}\".format(mnist_train.targets[0].numpy()))"
   ]
  },
  {
   "cell_type": "code",
   "execution_count": 63,
   "id": "eb500a50",
   "metadata": {},
   "outputs": [],
   "source": [
    "def train(model, device, train_loader, batch_size, epochs):\n",
    "    \n",
    "    model.train()\n",
    "    accuracies, losses = [], []\n",
    "    \n",
    "    criterion = nn.CrossEntropyLoss()#nn.NLLLoss(reduction='none')#\n",
    "    optimizer = torch.optim.SGD(model.parameters(), lr=0.01, momentum=0)\n",
    "    \n",
    "    for epoch in range(epochs):\n",
    "        with tqdm(train_loader, unit=\"batch\") as tepoch:\n",
    "            for data, target in tepoch:\n",
    "                \n",
    "                data = data.reshape((batch_size, 28*28))\n",
    "                data, target = data.to(device), target.to(device)\n",
    "                optimizer.zero_grad()\n",
    "                output = model(data)\n",
    "                maxit = torch.argmax(output, dim=1)\n",
    "                accuracy = (maxit==target).float().mean()\n",
    "                \n",
    "                loss = criterion(output, target)\n",
    "                loss = loss\n",
    "                losses.append(loss.item())\n",
    "                accuracies.append(accuracy.item())\n",
    "                loss.backward()\n",
    "                optimizer.step()\n",
    "                tepoch.set_postfix(loss = loss.item())\n",
    "\n",
    "    return losses, accuracies\n",
    "\n",
    "def test(model, device, data_loader, num_labels, batch_size):\n",
    "    \n",
    "    model.eval()\n",
    "    correct, total = np.zeros(num_labels), np.zeros(num_labels)\n",
    "    \n",
    "    for data in data_loader:\n",
    "        inputs, labels = data\n",
    "        inputs = inputs.reshape((batch_size, 28*28))\n",
    "        inputs = inputs.to(device).float()\n",
    "        labels = labels.to(device).long()\n",
    "        \n",
    "        outputs = model(inputs)\n",
    "        _,prediction = torch.max(outputs, 1)\n",
    "        \n",
    "        for i in range(num_labels):\n",
    "            relevant = (labels==i)\n",
    "            total[i] += relevant.sum().item()\n",
    "            correct[i] += (prediction[relevant] == labels[relevant]).sum().item()\n",
    "            \n",
    "    return correct, total\n",
    "\n",
    "class cheater_net(nn.Module):\n",
    "    def __init__(self):\n",
    "        super(cheater_net, self).__init__()\n",
    "        self.fc1 = nn.Linear(28*28, 128, bias=False)\n",
    "        self.fc2 = nn.Linear(128, 10, bias=False)\n",
    "        self.sm = nn.LogSoftmax(dim=1)\n",
    "    \n",
    "    def forward(self, x):\n",
    "        x = self.fc1(x)\n",
    "        x = F.relu(x)\n",
    "        x = self.fc2(x)\n",
    "        x = self.sm(x)\n",
    "        return x"
   ]
  },
  {
   "cell_type": "code",
   "execution_count": 66,
   "id": "f737f5dd",
   "metadata": {},
   "outputs": [
    {
     "data": {
      "application/vnd.jupyter.widget-view+json": {
       "model_id": "f594e30aa7e4413a8de3aa50fb6da63a",
       "version_major": 2,
       "version_minor": 0
      },
      "text/plain": [
       "  0%|          | 0/3750 [00:00<?, ?batch/s]"
      ]
     },
     "metadata": {},
     "output_type": "display_data"
    },
    {
     "data": {
      "application/vnd.jupyter.widget-view+json": {
       "model_id": "410cec39508340b8a57f1be355bcee5d",
       "version_major": 2,
       "version_minor": 0
      },
      "text/plain": [
       "  0%|          | 0/3750 [00:00<?, ?batch/s]"
      ]
     },
     "metadata": {},
     "output_type": "display_data"
    },
    {
     "data": {
      "application/vnd.jupyter.widget-view+json": {
       "model_id": "6fde7d54acc54741a3ee0e39c3fba3aa",
       "version_major": 2,
       "version_minor": 0
      },
      "text/plain": [
       "  0%|          | 0/3750 [00:00<?, ?batch/s]"
      ]
     },
     "metadata": {},
     "output_type": "display_data"
    },
    {
     "data": {
      "application/vnd.jupyter.widget-view+json": {
       "model_id": "a439c103f6004950a35bf39f54c753cb",
       "version_major": 2,
       "version_minor": 0
      },
      "text/plain": [
       "  0%|          | 0/3750 [00:00<?, ?batch/s]"
      ]
     },
     "metadata": {},
     "output_type": "display_data"
    },
    {
     "data": {
      "application/vnd.jupyter.widget-view+json": {
       "model_id": "6deea0f19bbe43beb7b9e53a06950b2c",
       "version_major": 2,
       "version_minor": 0
      },
      "text/plain": [
       "  0%|          | 0/3750 [00:00<?, ?batch/s]"
      ]
     },
     "metadata": {},
     "output_type": "display_data"
    }
   ],
   "source": [
    "cheater = cheater_net().to(device)\n",
    "losses,accuracies = train(cheater, device, train_loader, batch_size, 5)"
   ]
  },
  {
   "cell_type": "code",
   "execution_count": 67,
   "id": "a2b1bf7e",
   "metadata": {},
   "outputs": [
    {
     "name": "stdout",
     "output_type": "stream",
     "text": [
      "accuracy:0.9717\n"
     ]
    },
    {
     "data": {
      "image/png": "[encoded data removed]",
      "text/plain": [
       "<Figure size 432x288 with 1 Axes>"
      ]
     },
     "metadata": {
      "needs_background": "light"
     },
     "output_type": "display_data"
    }
   ],
   "source": [
    "#plt.plot(accuracies, label=\"Accuracy\")\n",
    "plt.plot(losses/np.max(losses), label=\"Loss\")\n",
    "plt.legend()\n",
    "\n",
    "num_labels = mnist_test.targets.unique().numel()\n",
    "correct, total = test(cheater, device, test_loader, num_labels, batch_size)\n",
    "print(\"accuracy:{}\".format(correct.sum()/total.sum()))"
   ]
  },
  {
   "cell_type": "markdown",
   "id": "bf33ac13",
   "metadata": {},
   "source": [
    "# NumPy Only\n",
    "\n",
    "Things we need\n",
    "\n",
    "- Forward pass\n",
    "- Backprop\n",
    "- Loss function\n",
    "- ReLU"
   ]
  },
  {
   "cell_type": "markdown",
   "id": "28235c10",
   "metadata": {},
   "source": [
    "### BackProp\n",
    "\n",
    "**Crossentropy Cost, Softmax and derivatis**\n",
    "\n",
    "$o^x_j:$ predicted probability of $x$ belonging to class $j$\n",
    "\n",
    "$ t^x_j:$ target value of $x$ for output neuron $j$\n",
    "\n",
    "Error $\\large E_X = - \\sum_k \\left[ t_k^x \\log(o_k^x) + (1-t_k^x) \\log(1-o_k^x) \\right]$\n",
    "\n",
    "$\\large \\frac{\\partial E_X}{\\partial o_j^x} = -\\frac{t_j^x}{o_j^x} + \\frac{1 - t^x_j}{1-o_j^x}$\n",
    "\n",
    "LogSoftMax derivative $\\large \\frac{\\partial LS}{z} = 1 - e^{LSM(z)}$"
   ]
  },
  {
   "cell_type": "code",
   "execution_count": 38,
   "id": "28827be6",
   "metadata": {},
   "outputs": [],
   "source": [
    "class MLP:\n",
    "    \n",
    "    def __init__(self, input_size, hidden_size, output_size):\n",
    "        self.input_size = input_size\n",
    "        self.hidden_size = hidden_size\n",
    "        self.output_size = output_size\n",
    "        \n",
    "        self.W1 = np.random.randn(input_size, hidden_size)\n",
    "        self.W2 = np.random.randn(hidden_size, output_size)\n",
    "        \n",
    "    def forward(self):\n",
    "        self.x = np.dot(self.x, self.W1)\n",
    "        self.x = self.relu(self.x)\n",
    "        self.x = np.dot(self.W1, self.W2)\n",
    "        self.x = self.softmax(self.x)\n",
    "        \n",
    "    def logSoftmax(self, d, g=1):\n",
    "        return np.log( np.exp(d*g) / np.sum(np.exp(d*g)) )\n",
    "    \n",
    "    def relu(self, x):\n",
    "        return np.maximum(x, 1)\n",
    "    \n",
    "    def crossEntropyLoss(self, x, y):\n",
    "        \"\"\"\n",
    "        y: binary indicator for class-identity\n",
    "        x: predicted probability observations belong to class\n",
    "        \"\"\"\n",
    "        return -np.sum(y * np.log(x))\n",
    "    \n",
    "    "
   ]
  }
 ],
 "metadata": {
  "kernelspec": {
   "display_name": "Python 3 (ipykernel)",
   "language": "python",
   "name": "python3"
  },
  "language_info": {
   "codemirror_mode": {
    "name": "ipython",
    "version": 3
   },
   "file_extension": ".py",
   "mimetype": "text/x-python",
   "name": "python",
   "nbconvert_exporter": "python",
   "pygments_lexer": "ipython3",
   "version": "3.9.7"
  }
 },
 "nbformat": 4,
 "nbformat_minor": 5
}
