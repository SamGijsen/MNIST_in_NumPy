{
 "cells": [
  {
   "cell_type": "code",
   "execution_count": 135,
   "id": "138ca47b",
   "metadata": {},
   "outputs": [
    {
     "name": "stdout",
     "output_type": "stream",
     "text": [
      "device= cuda\n"
     ]
    }
   ],
   "source": [
    "import numpy as np\n",
    "from tqdm.notebook import tqdm, trange # progress bars\n",
    "import time\n",
    "from sklearn.datasets import fetch_openml\n",
    "import matplotlib.pyplot as plt\n",
    "\n",
    "import torch\n",
    "import torch.nn as nn\n",
    "import torch.nn.functional as F\n",
    "\n",
    "import torchvision.transforms as transforms\n",
    "import torchvision.datasets as datasets\n",
    "from torch.utils.data import DataLoader\n",
    "from sklearn.model_selection import train_test_split\n",
    "\n",
    "device = torch.device(\"cuda\" if torch.cuda.is_available() else \"cpu\")\n",
    "print(\"device=\", device)"
   ]
  },
  {
   "cell_type": "markdown",
   "id": "1ca05443",
   "metadata": {},
   "source": [
    "Let's first do MNIST in PyTorch as a starting point."
   ]
  },
  {
   "cell_type": "code",
   "execution_count": 136,
   "id": "a6c22ce8",
   "metadata": {},
   "outputs": [],
   "source": [
    "# Data Loaders\n",
    "transform = transforms.Compose([\n",
    "    transforms.ToTensor(),\n",
    "    transforms.Normalize((0.1307,), (0.3081,))\n",
    "    ])\n",
    "\n",
    "mnist_train = datasets.MNIST(root='./',\n",
    "                             download=True,\n",
    "                             train=True,\n",
    "                             transform=transform)\n",
    "mnist_test = datasets.MNIST(root='.',\n",
    "                            download=False,\n",
    "                            train=False,\n",
    "                            transform=transform)\n",
    "\n",
    "batch_size = 16\n",
    "train_loader = DataLoader(mnist_train,\n",
    "                        batch_size=batch_size,\n",
    "                        shuffle=True,\n",
    "                        num_workers=2,\n",
    "                        drop_last=True)\n",
    "test_loader = DataLoader(mnist_test,\n",
    "                        batch_size=batch_size,\n",
    "                        shuffle=True,\n",
    "                        num_workers=2,\n",
    "                        drop_last=True)"
   ]
  },
  {
   "cell_type": "code",
   "execution_count": 123,
   "id": "2bf6bfbf",
   "metadata": {},
   "outputs": [
    {
     "name": "stdout",
     "output_type": "stream",
     "text": [
      "This is a 5\n"
     ]
    },
    {
     "data": {
      "image/png": "[encoded data removed]",
      "text/plain": [
       "<Figure size 432x288 with 1 Axes>"
      ]
     },
     "metadata": {
      "needs_background": "light"
     },
     "output_type": "display_data"
    }
   ],
   "source": [
    "plt.imshow(mnist_train[0][0].reshape(28, 28), cmap=\"gray\")\n",
    "print(\"This is a {}\".format(mnist_train.targets[0].numpy()))"
   ]
  },
  {
   "cell_type": "code",
   "execution_count": 137,
   "id": "eb500a50",
   "metadata": {},
   "outputs": [],
   "source": [
    "def train(model, device, train_loader, batch_size, epochs):\n",
    "    \n",
    "    model.train()\n",
    "    accuracies, losses = [], []\n",
    "    \n",
    "    criterion = nn.CrossEntropyLoss()#nn.NLLLoss(reduction='none')#\n",
    "    optimizer = torch.optim.SGD(model.parameters(), lr=0.01, momentum=0)\n",
    "    \n",
    "    for epoch in range(epochs):\n",
    "        with tqdm(train_loader, unit=\"batch\") as tepoch:\n",
    "            for data, target in tepoch:\n",
    "                \n",
    "                data = data.reshape((batch_size, 28*28))\n",
    "                data, target = data.to(device), target.to(device)\n",
    "                optimizer.zero_grad()\n",
    "                output = model(data)\n",
    "                maxit = torch.argmax(output, dim=1)\n",
    "                accuracy = (maxit==target).float().mean()\n",
    "                \n",
    "                loss = criterion(output, target)\n",
    "                loss = loss\n",
    "                losses.append(loss.item())\n",
    "                accuracies.append(accuracy.item())\n",
    "                loss.backward()\n",
    "                optimizer.step()\n",
    "                tepoch.set_postfix(loss = loss.item())\n",
    "\n",
    "    return losses, accuracies\n",
    "\n",
    "def test(model, device, data_loader, num_labels, batch_size):\n",
    "    \n",
    "    model.eval()\n",
    "    correct, total = np.zeros(num_labels), np.zeros(num_labels)\n",
    "    \n",
    "    for data in data_loader:\n",
    "        inputs, labels = data\n",
    "        inputs = inputs.reshape((batch_size, 28*28))\n",
    "        inputs = inputs.to(device).float()\n",
    "        labels = labels.to(device).long()\n",
    "        \n",
    "        outputs = model(inputs)\n",
    "        _,prediction = torch.max(outputs, 1)\n",
    "        \n",
    "        for i in range(num_labels):\n",
    "            relevant = (labels==i)\n",
    "            total[i] += relevant.sum().item()\n",
    "            correct[i] += (prediction[relevant] == labels[relevant]).sum().item()\n",
    "            \n",
    "    return correct, total\n",
    "\n",
    "class cheater_net(nn.Module):\n",
    "    def __init__(self):\n",
    "        super(cheater_net, self).__init__()\n",
    "        self.fc1 = nn.Linear(28*28, 128, bias=False)\n",
    "        self.fc2 = nn.Linear(128, 10, bias=False)\n",
    "        self.sm = nn.LogSoftmax(dim=1)\n",
    "    \n",
    "    def forward(self, x):\n",
    "        x = self.fc1(x)\n",
    "        x = F.relu(x)\n",
    "        x = self.fc2(x)\n",
    "        x = self.sm(x)\n",
    "        return x"
   ]
  },
  {
   "cell_type": "code",
   "execution_count": 138,
   "id": "f737f5dd",
   "metadata": {},
   "outputs": [
    {
     "ename": "RuntimeError",
     "evalue": "CUDA error: all CUDA-capable devices are busy or unavailable",
     "output_type": "error",
     "traceback": [
      "\u001b[0;31m---------------------------------------------------------------------------\u001b[0m",
      "\u001b[0;31mRuntimeError\u001b[0m                              Traceback (most recent call last)",
      "\u001b[0;32m<ipython-input-138-9d626f5f3b2f>\u001b[0m in \u001b[0;36m<module>\u001b[0;34m\u001b[0m\n\u001b[0;32m----> 1\u001b[0;31m \u001b[0mcheater\u001b[0m \u001b[0;34m=\u001b[0m \u001b[0mcheater_net\u001b[0m\u001b[0;34m(\u001b[0m\u001b[0;34m)\u001b[0m\u001b[0;34m.\u001b[0m\u001b[0mto\u001b[0m\u001b[0;34m(\u001b[0m\u001b[0mdevice\u001b[0m\u001b[0;34m)\u001b[0m\u001b[0;34m\u001b[0m\u001b[0;34m\u001b[0m\u001b[0m\n\u001b[0m\u001b[1;32m      2\u001b[0m \u001b[0mlosses\u001b[0m\u001b[0;34m,\u001b[0m\u001b[0maccuracies\u001b[0m \u001b[0;34m=\u001b[0m \u001b[0mtrain\u001b[0m\u001b[0;34m(\u001b[0m\u001b[0mcheater\u001b[0m\u001b[0;34m,\u001b[0m \u001b[0mdevice\u001b[0m\u001b[0;34m,\u001b[0m \u001b[0mtrain_loader\u001b[0m\u001b[0;34m,\u001b[0m \u001b[0mbatch_size\u001b[0m\u001b[0;34m,\u001b[0m \u001b[0;36m5\u001b[0m\u001b[0;34m)\u001b[0m\u001b[0;34m\u001b[0m\u001b[0;34m\u001b[0m\u001b[0m\n",
      "\u001b[0;32m~/miniconda3/envs/bayes/lib/python3.9/site-packages/torch/nn/modules/module.py\u001b[0m in \u001b[0;36mto\u001b[0;34m(self, *args, **kwargs)\u001b[0m\n\u001b[1;32m    671\u001b[0m             \u001b[0;32mreturn\u001b[0m \u001b[0mt\u001b[0m\u001b[0;34m.\u001b[0m\u001b[0mto\u001b[0m\u001b[0;34m(\u001b[0m\u001b[0mdevice\u001b[0m\u001b[0;34m,\u001b[0m \u001b[0mdtype\u001b[0m \u001b[0;32mif\u001b[0m \u001b[0mt\u001b[0m\u001b[0;34m.\u001b[0m\u001b[0mis_floating_point\u001b[0m\u001b[0;34m(\u001b[0m\u001b[0;34m)\u001b[0m \u001b[0;32mor\u001b[0m \u001b[0mt\u001b[0m\u001b[0;34m.\u001b[0m\u001b[0mis_complex\u001b[0m\u001b[0;34m(\u001b[0m\u001b[0;34m)\u001b[0m \u001b[0;32melse\u001b[0m \u001b[0;32mNone\u001b[0m\u001b[0;34m,\u001b[0m \u001b[0mnon_blocking\u001b[0m\u001b[0;34m)\u001b[0m\u001b[0;34m\u001b[0m\u001b[0;34m\u001b[0m\u001b[0m\n\u001b[1;32m    672\u001b[0m \u001b[0;34m\u001b[0m\u001b[0m\n\u001b[0;32m--> 673\u001b[0;31m         \u001b[0;32mreturn\u001b[0m \u001b[0mself\u001b[0m\u001b[0;34m.\u001b[0m\u001b[0m_apply\u001b[0m\u001b[0;34m(\u001b[0m\u001b[0mconvert\u001b[0m\u001b[0;34m)\u001b[0m\u001b[0;34m\u001b[0m\u001b[0;34m\u001b[0m\u001b[0m\n\u001b[0m\u001b[1;32m    674\u001b[0m \u001b[0;34m\u001b[0m\u001b[0m\n\u001b[1;32m    675\u001b[0m     def register_backward_hook(\n",
      "\u001b[0;32m~/miniconda3/envs/bayes/lib/python3.9/site-packages/torch/nn/modules/module.py\u001b[0m in \u001b[0;36m_apply\u001b[0;34m(self, fn)\u001b[0m\n\u001b[1;32m    385\u001b[0m     \u001b[0;32mdef\u001b[0m \u001b[0m_apply\u001b[0m\u001b[0;34m(\u001b[0m\u001b[0mself\u001b[0m\u001b[0;34m,\u001b[0m \u001b[0mfn\u001b[0m\u001b[0;34m)\u001b[0m\u001b[0;34m:\u001b[0m\u001b[0;34m\u001b[0m\u001b[0;34m\u001b[0m\u001b[0m\n\u001b[1;32m    386\u001b[0m         \u001b[0;32mfor\u001b[0m \u001b[0mmodule\u001b[0m \u001b[0;32min\u001b[0m \u001b[0mself\u001b[0m\u001b[0;34m.\u001b[0m\u001b[0mchildren\u001b[0m\u001b[0;34m(\u001b[0m\u001b[0;34m)\u001b[0m\u001b[0;34m:\u001b[0m\u001b[0;34m\u001b[0m\u001b[0;34m\u001b[0m\u001b[0m\n\u001b[0;32m--> 387\u001b[0;31m             \u001b[0mmodule\u001b[0m\u001b[0;34m.\u001b[0m\u001b[0m_apply\u001b[0m\u001b[0;34m(\u001b[0m\u001b[0mfn\u001b[0m\u001b[0;34m)\u001b[0m\u001b[0;34m\u001b[0m\u001b[0;34m\u001b[0m\u001b[0m\n\u001b[0m\u001b[1;32m    388\u001b[0m \u001b[0;34m\u001b[0m\u001b[0m\n\u001b[1;32m    389\u001b[0m         \u001b[0;32mdef\u001b[0m \u001b[0mcompute_should_use_set_data\u001b[0m\u001b[0;34m(\u001b[0m\u001b[0mtensor\u001b[0m\u001b[0;34m,\u001b[0m \u001b[0mtensor_applied\u001b[0m\u001b[0;34m)\u001b[0m\u001b[0;34m:\u001b[0m\u001b[0;34m\u001b[0m\u001b[0;34m\u001b[0m\u001b[0m\n",
      "\u001b[0;32m~/miniconda3/envs/bayes/lib/python3.9/site-packages/torch/nn/modules/module.py\u001b[0m in \u001b[0;36m_apply\u001b[0;34m(self, fn)\u001b[0m\n\u001b[1;32m    407\u001b[0m                 \u001b[0;31m# `with torch.no_grad():`\u001b[0m\u001b[0;34m\u001b[0m\u001b[0;34m\u001b[0m\u001b[0m\n\u001b[1;32m    408\u001b[0m                 \u001b[0;32mwith\u001b[0m \u001b[0mtorch\u001b[0m\u001b[0;34m.\u001b[0m\u001b[0mno_grad\u001b[0m\u001b[0;34m(\u001b[0m\u001b[0;34m)\u001b[0m\u001b[0;34m:\u001b[0m\u001b[0;34m\u001b[0m\u001b[0;34m\u001b[0m\u001b[0m\n\u001b[0;32m--> 409\u001b[0;31m                     \u001b[0mparam_applied\u001b[0m \u001b[0;34m=\u001b[0m \u001b[0mfn\u001b[0m\u001b[0;34m(\u001b[0m\u001b[0mparam\u001b[0m\u001b[0;34m)\u001b[0m\u001b[0;34m\u001b[0m\u001b[0;34m\u001b[0m\u001b[0m\n\u001b[0m\u001b[1;32m    410\u001b[0m                 \u001b[0mshould_use_set_data\u001b[0m \u001b[0;34m=\u001b[0m \u001b[0mcompute_should_use_set_data\u001b[0m\u001b[0;34m(\u001b[0m\u001b[0mparam\u001b[0m\u001b[0;34m,\u001b[0m \u001b[0mparam_applied\u001b[0m\u001b[0;34m)\u001b[0m\u001b[0;34m\u001b[0m\u001b[0;34m\u001b[0m\u001b[0m\n\u001b[1;32m    411\u001b[0m                 \u001b[0;32mif\u001b[0m \u001b[0mshould_use_set_data\u001b[0m\u001b[0;34m:\u001b[0m\u001b[0;34m\u001b[0m\u001b[0;34m\u001b[0m\u001b[0m\n",
      "\u001b[0;32m~/miniconda3/envs/bayes/lib/python3.9/site-packages/torch/nn/modules/module.py\u001b[0m in \u001b[0;36mconvert\u001b[0;34m(t)\u001b[0m\n\u001b[1;32m    669\u001b[0m                 return t.to(device, dtype if t.is_floating_point() or t.is_complex() else None,\n\u001b[1;32m    670\u001b[0m                             non_blocking, memory_format=convert_to_format)\n\u001b[0;32m--> 671\u001b[0;31m             \u001b[0;32mreturn\u001b[0m \u001b[0mt\u001b[0m\u001b[0;34m.\u001b[0m\u001b[0mto\u001b[0m\u001b[0;34m(\u001b[0m\u001b[0mdevice\u001b[0m\u001b[0;34m,\u001b[0m \u001b[0mdtype\u001b[0m \u001b[0;32mif\u001b[0m \u001b[0mt\u001b[0m\u001b[0;34m.\u001b[0m\u001b[0mis_floating_point\u001b[0m\u001b[0;34m(\u001b[0m\u001b[0;34m)\u001b[0m \u001b[0;32mor\u001b[0m \u001b[0mt\u001b[0m\u001b[0;34m.\u001b[0m\u001b[0mis_complex\u001b[0m\u001b[0;34m(\u001b[0m\u001b[0;34m)\u001b[0m \u001b[0;32melse\u001b[0m \u001b[0;32mNone\u001b[0m\u001b[0;34m,\u001b[0m \u001b[0mnon_blocking\u001b[0m\u001b[0;34m)\u001b[0m\u001b[0;34m\u001b[0m\u001b[0;34m\u001b[0m\u001b[0m\n\u001b[0m\u001b[1;32m    672\u001b[0m \u001b[0;34m\u001b[0m\u001b[0m\n\u001b[1;32m    673\u001b[0m         \u001b[0;32mreturn\u001b[0m \u001b[0mself\u001b[0m\u001b[0;34m.\u001b[0m\u001b[0m_apply\u001b[0m\u001b[0;34m(\u001b[0m\u001b[0mconvert\u001b[0m\u001b[0;34m)\u001b[0m\u001b[0;34m\u001b[0m\u001b[0;34m\u001b[0m\u001b[0m\n",
      "\u001b[0;31mRuntimeError\u001b[0m: CUDA error: all CUDA-capable devices are busy or unavailable"
     ]
    }
   ],
   "source": [
    "cheater = cheater_net().to(device)\n",
    "losses,accuracies = train(cheater, device, train_loader, batch_size, 5)"
   ]
  },
  {
   "cell_type": "code",
   "execution_count": 67,
   "id": "a2b1bf7e",
   "metadata": {},
   "outputs": [
    {
     "name": "stdout",
     "output_type": "stream",
     "text": [
      "accuracy:0.9717\n"
     ]
    },
    {
     "data": {
      "image/png": "[encoded data removed]",
      "text/plain": [
       "<Figure size 432x288 with 1 Axes>"
      ]
     },
     "metadata": {
      "needs_background": "light"
     },
     "output_type": "display_data"
    }
   ],
   "source": [
    "#plt.plot(accuracies, label=\"Accuracy\")\n",
    "plt.plot(losses/np.max(losses), label=\"Loss\")\n",
    "plt.legend()\n",
    "\n",
    "num_labels = mnist_test.targets.unique().numel()\n",
    "correct, total = test(cheater, device, test_loader, num_labels, batch_size)\n",
    "print(\"accuracy:{}\".format(correct.sum()/total.sum()))"
   ]
  },
  {
   "cell_type": "markdown",
   "id": "bf33ac13",
   "metadata": {},
   "source": [
    "# NumPy Only\n",
    "\n",
    "Things we need\n",
    "\n",
    "- Forward pass\n",
    "- Backprop\n",
    "- Loss function\n",
    "- ReLU"
   ]
  },
  {
   "cell_type": "markdown",
   "id": "28235c10",
   "metadata": {},
   "source": [
    "### BackProp\n",
    "\n",
    "**Crossentropy Cost, Softmax and derivatives**\n",
    "\n",
    "$o^x_j:$ predicted probability of $x$ belonging to class $j$\n",
    "\n",
    "$ t^x_j:$ target value of $x$ for output neuron $j$\n",
    "\n",
    "Error $\\large E_X = - \\sum_k \\left[ t_k^x \\log(o_k^x) + (1-t_k^x) \\log(1-o_k^x) \\right]$\n",
    "\n",
    "$\\large \\frac{\\partial E_X}{\\partial o_j^x} = -\\frac{t_j^x}{o_j^x} + \\frac{1 - t^x_j}{1-o_j^x}$\n",
    "\n",
    "LogSoftMax derivative $\\large \\frac{\\partial LS}{z} = 1 - e^{LSM(z)}$"
   ]
  },
  {
   "cell_type": "code",
   "execution_count": 2,
   "id": "0f4f80a9",
   "metadata": {},
   "outputs": [],
   "source": [
    "x, y = fetch_openml('mnist_784', return_X_y=True)"
   ]
  },
  {
   "cell_type": "code",
   "execution_count": 3,
   "id": "e0abc218",
   "metadata": {},
   "outputs": [
    {
     "name": "stdout",
     "output_type": "stream",
     "text": [
      "Label=0\n"
     ]
    },
    {
     "data": {
      "image/png": "[encoded data removed]",
      "text/plain": [
       "<Figure size 432x288 with 1 Axes>"
      ]
     },
     "metadata": {
      "needs_background": "light"
     },
     "output_type": "display_data"
    }
   ],
   "source": [
    "x = (x/255).astype('float32')\n",
    "y = y.astype('int32')\n",
    "\n",
    "x_train, x_test, y_train, y_test = train_test_split(x, y, test_size=0.15, random_state=1)\n",
    "\n",
    "\n",
    "x_train = x_train.to_numpy()\n",
    "y_train = y_train.to_numpy()\n",
    "x_test = x_test.to_numpy()\n",
    "y_test = y_test.to_numpy()\n",
    "\n",
    "\n",
    "print(\"Label={}\".format(y[1]))\n",
    "plt.imshow(x.iloc[1,:].to_numpy().reshape(28,28));"
   ]
  },
  {
   "cell_type": "markdown",
   "id": "8d91391e",
   "metadata": {},
   "source": [
    "Input dot FC1\n",
    "RELU(FC1)\n",
    "FC1 dot FC2\n",
    "LSM(FC2)\n",
    "loss(LSM)\n",
    "\n",
    "dx_lsm = output / lsm\n",
    "d_fc2 = RELU(FC1).T dot dx_lsm\n",
    "dx_relu = dx_lsm dot FC2.T\n"
   ]
  },
  {
   "cell_type": "code",
   "execution_count": 131,
   "id": "28827be6",
   "metadata": {},
   "outputs": [],
   "source": [
    "class MLP:\n",
    "    \n",
    "    def __init__(self, input_size, hidden_size, output_size):\n",
    "        self.input_size = input_size\n",
    "        self.hidden_size = hidden_size\n",
    "        self.output_size = output_size\n",
    "        \n",
    "        self.W1 = np.random.randn(input_size, hidden_size) / np.sqrt(input_size*hidden_size)\n",
    "        self.W2 = np.random.randn(hidden_size, output_size) / np.sqrt(hidden_size*output_size)\n",
    "        \n",
    "    def forward(self, x, output):\n",
    "        self.fc1 = np.dot(x, self.W1)\n",
    "        self.relu1 = self.relu(self.fc1)\n",
    "        self.fc2 = np.dot(self.relu1, self.W2)\n",
    "        self.lsm = self.fc2 - self.logSoftmax(self.fc2).reshape((-1, 1))\n",
    "        self.loss = np.mean(-output * self.lsm, axis=1)\n",
    "        \n",
    "    def logSoftmax(self, d):\n",
    "        c = d.max(axis=1)\n",
    "        return c + np.log(np.exp(d-c.reshape((-1, 1))).sum(axis=1))\n",
    "        #return np.log( np.exp(d*g) / np.sum(np.exp(d*g)) )\n",
    "    \n",
    "    def relu(self, x):\n",
    "        return np.maximum(x, 0)\n",
    "    \n",
    "    def crossEntropyLoss(self, p, y):\n",
    "        \"\"\"\n",
    "        y: binary indicator for class-identity\n",
    "        p: predicted probability observations belong to class\n",
    "        \"\"\"\n",
    "        return -np.sum(y * np.log(p))\n",
    "    \n",
    "    def backward(self, x, y, output):\n",
    "\n",
    "        self.d_output = -output / len(y)\n",
    "        self.dx_lsm = self.d_output - np.exp(self.lsm) * self.d_output.sum(axis=1).reshape((-1,1))\n",
    "        self.d_W2 = np.dot(self.relu1.T, self.dx_lsm)\n",
    "        self.dx_relu = np.dot(self.dx_lsm, self.W2.T)\n",
    "        self.dx_fc1 = (self.relu1>0).astype('float32') * self.dx_relu\n",
    "        self.d_W1 = np.dot(x.T, self.dx_fc1)\n",
    "        \n",
    "    def evaluate(self, x, y):\n",
    "        \n",
    "        # Evaluate\n",
    "        output_test = np.zeros((len(y), np.max(y+1)))\n",
    "        output_test[range(len(y)), y] = 1    \n",
    "\n",
    "        model.forward(x, output_test)\n",
    "        ac = (np.argmax(model.lsm, axis=1) == y).sum() / len(y)\n",
    "        print(\"Accuracy on test set = %.2f\" % (ac))"
   ]
  },
  {
   "cell_type": "code",
   "execution_count": 5,
   "id": "bb8c5a40",
   "metadata": {},
   "outputs": [],
   "source": []
  },
  {
   "cell_type": "code",
   "execution_count": 132,
   "id": "21530961",
   "metadata": {},
   "outputs": [
    {
     "data": {
      "application/vnd.jupyter.widget-view+json": {
       "model_id": "1487c535b71f481cbd491aa15371e130",
       "version_major": 2,
       "version_minor": 0
      },
      "text/plain": [
       "  0%|          | 0/3000 [00:00<?, ?it/s]"
      ]
     },
     "metadata": {},
     "output_type": "display_data"
    }
   ],
   "source": [
    "model = MLP(28*28, 128, 10)\n",
    "\n",
    "lr = 0.01\n",
    "batch_size = 64\n",
    "accuracies, losses = [], []\n",
    "\n",
    "for i in trange(3000):\n",
    "    \n",
    "    # select batch-sized data\n",
    "    idx = np.random.randint(0, high=x_train.shape[0], size=batch_size)\n",
    "    x = x_train[idx,:]\n",
    "    y = y_train[idx]\n",
    "    \n",
    "    output = np.zeros((batch_size, np.max(y_train+1)))\n",
    "    output[range(batch_size), y] = 1    \n",
    "    \n",
    "    model.forward(x, output)\n",
    "    loss = model.loss.copy()\n",
    "    losses.append(loss.mean())\n",
    "    accuracy = (np.argmax(model.lsm, axis=1) == y).sum() / batch_size\n",
    "    accuracies.append(accuracy)\n",
    "    model.backward(x, y, output)\n",
    "    \n",
    "    # SGD\n",
    "    model.W1 -= model.d_W1*lr \n",
    "    model.W2 -= model.d_W2*lr\n",
    "    "
   ]
  },
  {
   "cell_type": "code",
   "execution_count": 134,
   "id": "cfea0fc8",
   "metadata": {},
   "outputs": [
    {
     "name": "stdout",
     "output_type": "stream",
     "text": [
      "Accuracy on test set= 0.89\n"
     ]
    },
    {
     "data": {
      "image/png": "[encoded data removed]",
      "text/plain": [
       "<Figure size 864x288 with 2 Axes>"
      ]
     },
     "metadata": {
      "needs_background": "light"
     },
     "output_type": "display_data"
    }
   ],
   "source": [
    "# Evaluate on test set\n",
    "model.evaluate(x_test, y_test)\n",
    "\n",
    "# Plot loss and accuracy across iterations\n",
    "fig, (ax1, ax2) = plt.subplots(1,2, figsize=(12,4))\n",
    "ax1.plot(losses)\n",
    "ax1.set_title(\"Loss\")\n",
    "ax2.plot(accuracies, color='orange')\n",
    "ax2.set_title(\"Accuracy\");"
   ]
  },
  {
   "cell_type": "code",
   "execution_count": 133,
   "id": "680e7d6b",
   "metadata": {},
   "outputs": [
    {
     "name": "stdout",
     "output_type": "stream",
     "text": [
      "Accuracy on test set= 0.89\n"
     ]
    }
   ],
   "source": []
  },
  {
   "cell_type": "code",
   "execution_count": null,
   "id": "10d2438e",
   "metadata": {},
   "outputs": [],
   "source": []
  },
  {
   "cell_type": "code",
   "execution_count": null,
   "id": "59705880",
   "metadata": {},
   "outputs": [],
   "source": []
  },
  {
   "cell_type": "code",
   "execution_count": null,
   "id": "24c3170d",
   "metadata": {},
   "outputs": [],
   "source": []
  },
  {
   "cell_type": "code",
   "execution_count": 44,
   "id": "5ec454da",
   "metadata": {},
   "outputs": [],
   "source": [
    "def logsumexp(x):\n",
    "    #return np.log(np.exp(x).sum(axis=1))\n",
    "    # http://gregorygundersen.com/blog/2020/02/09/log-sum-exp/\n",
    "    c = x.max(axis=1)\n",
    "    return c + np.log(np.exp(x-c.reshape((-1, 1))).sum(axis=1))\n",
    "\n",
    "def forward_backward(x, y):\n",
    "    # training\n",
    "    out = np.zeros((len(y),10), np.float32)\n",
    "    out[range(out.shape[0]),y] = 1\n",
    "\n",
    "    # forward pass\n",
    "    x_l1 = x.dot(l1)\n",
    "    x_relu = np.maximum(x_l1, 0)\n",
    "    x_l2 = x_relu.dot(l2)\n",
    "    x_lsm = x_l2 - logsumexp(x_l2).reshape((-1, 1))\n",
    "    x_loss = (-out * x_lsm).mean(axis=1)\n",
    "    print(\"x_l1, relu, x_l2\", x_l1.shape, x_relu.shape, x_l2.shape)\n",
    "    # training in numpy (super hard!)\n",
    "    # backward pass\n",
    "\n",
    "    # will involve x_lsm, x_l2, out, d_out and produce dx_sm\n",
    "    d_out = -out / len(y)\n",
    "\n",
    "    # derivative of logsoftmax\n",
    "    # https://github.com/torch/nn/blob/master/lib/THNN/generic/LogSoftMax.c\n",
    "    dx_lsm = d_out - np.exp(x_lsm)*d_out.sum(axis=1).reshape((-1, 1))\n",
    "\n",
    "    # derivative of l2\n",
    "    print(d_out.shape, out.shape, dx_lsm.shape)\n",
    "    d_l2 = x_relu.T.dot(dx_lsm)\n",
    "    print(\"l2.T\", l2.T.shape, \"dx_lsm\", dx_lsm.shape)\n",
    "    dx_relu = dx_lsm.dot(l2.T)\n",
    "\n",
    "    # derivative of relu\n",
    "    print(x_relu.shape, dx_relu.shape)\n",
    "    dx_l1 = (x_relu > 0).astype(np.float32) * dx_relu\n",
    "\n",
    "    # derivative of l1\n",
    "    d_l1 = x.T.dot(dx_l1)\n",
    "\n",
    "    return x_loss, x_l2, d_l1, d_l2\n"
   ]
  },
  {
   "cell_type": "code",
   "execution_count": 45,
   "id": "20f734d3",
   "metadata": {},
   "outputs": [
    {
     "name": "stdout",
     "output_type": "stream",
     "text": [
      "x_l1, relu, x_l2 (32, 128) (32, 128) (32, 10)\n",
      "(32, 10) (32, 10) (32, 10)\n",
      "l2.T (10, 128) dx_lsm (32, 10)\n",
      "(32, 128) (32, 128)\n"
     ]
    }
   ],
   "source": [
    "\n",
    "# numpy training\n",
    "def layer_init(m, h):\n",
    "    # gaussian is strong\n",
    "    #ret = np.random.randn(m,h)/np.sqrt(m*h)\n",
    "    # uniform is stronger\n",
    "    ret = np.random.uniform(-1., 1., size=(m,h))/np.sqrt(m*h)\n",
    "    return ret.astype(np.float32)\n",
    "\n",
    "# reinit\n",
    "np.random.seed(1337)\n",
    "l1 = layer_init(784, 128)\n",
    "l2 = layer_init(128, 10)\n",
    "\n",
    "samp = np.ones(32).astype(\"int\")\n",
    "x_loss, x_l2, d_l1, d_l2 = forward_backward(x_test[samp].reshape((-1, 28*28)), y_test[samp])"
   ]
  },
  {
   "cell_type": "code",
   "execution_count": null,
   "id": "a55c6765",
   "metadata": {},
   "outputs": [],
   "source": []
  }
 ],
 "metadata": {
  "kernelspec": {
   "display_name": "Python 3 (ipykernel)",
   "language": "python",
   "name": "python3"
  },
  "language_info": {
   "codemirror_mode": {
    "name": "ipython",
    "version": 3
   },
   "file_extension": ".py",
   "mimetype": "text/x-python",
   "name": "python",
   "nbconvert_exporter": "python",
   "pygments_lexer": "ipython3",
   "version": "3.9.7"
  }
 },
 "nbformat": 4,
 "nbformat_minor": 5
}
