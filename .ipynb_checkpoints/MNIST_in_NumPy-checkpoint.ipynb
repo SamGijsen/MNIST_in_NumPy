{
 "cells": [
  {
   "cell_type": "code",
   "execution_count": 44,
   "id": "138ca47b",
   "metadata": {},
   "outputs": [
    {
     "name": "stdout",
     "output_type": "stream",
     "text": [
      "device= cpu\n"
     ]
    }
   ],
   "source": [
    "import numpy as np\n",
    "from tqdm.notebook import tqdm, trange # progress bars\n",
    "import time\n",
    "from sklearn.datasets import fetch_openml\n",
    "import matplotlib.pyplot as plt\n",
    "\n",
    "import torch\n",
    "import torch.nn as nn\n",
    "import torch.nn.functional as F\n",
    "\n",
    "import torchvision.transforms as transforms\n",
    "import torchvision.datasets as datasets\n",
    "from torch.utils.data import DataLoader\n",
    "from sklearn.model_selection import train_test_split\n",
    "\n",
    "device = torch.device(\"cuda\" if torch.cuda.is_available() else \"cpu\")\n",
    "print(\"device=\", device)"
   ]
  },
  {
   "cell_type": "markdown",
   "id": "1ca05443",
   "metadata": {},
   "source": [
    "Let's first do MNIST in PyTorch as a starting point."
   ]
  },
  {
   "cell_type": "code",
   "execution_count": 2,
   "id": "a6c22ce8",
   "metadata": {},
   "outputs": [],
   "source": [
    "# Data Loaders\n",
    "transform = transforms.Compose([\n",
    "    transforms.ToTensor(),\n",
    "    transforms.Normalize((0.1307,), (0.3081,))\n",
    "    ])\n",
    "\n",
    "mnist_train = datasets.MNIST(root='./',\n",
    "                             download=True,\n",
    "                             train=True,\n",
    "                             transform=transform)\n",
    "mnist_test = datasets.MNIST(root='.',\n",
    "                            download=False,\n",
    "                            train=False,\n",
    "                            transform=transform)\n",
    "\n",
    "batch_size = 16\n",
    "train_loader = DataLoader(mnist_train,\n",
    "                        batch_size=batch_size,\n",
    "                        shuffle=True,\n",
    "                        num_workers=2,\n",
    "                        drop_last=True)\n",
    "test_loader = DataLoader(mnist_test,\n",
    "                        batch_size=batch_size,\n",
    "                        shuffle=True,\n",
    "                        num_workers=2,\n",
    "                        drop_last=True)"
   ]
  },
  {
   "cell_type": "code",
   "execution_count": 123,
   "id": "2bf6bfbf",
   "metadata": {},
   "outputs": [
    {
     "name": "stdout",
     "output_type": "stream",
     "text": [
      "This is a 5\n"
     ]
    },
    {
     "data": {
      "image/png": "[encoded data removed]",
      "text/plain": [
       "<Figure size 432x288 with 1 Axes>"
      ]
     },
     "metadata": {
      "needs_background": "light"
     },
     "output_type": "display_data"
    }
   ],
   "source": [
    "plt.imshow(mnist_train[0][0].reshape(28, 28), cmap=\"gray\")\n",
    "print(\"This is a {}\".format(mnist_train.targets[0].numpy()))"
   ]
  },
  {
   "cell_type": "code",
   "execution_count": 13,
   "id": "eb500a50",
   "metadata": {},
   "outputs": [],
   "source": [
    "def train(model, device, train_loader, batch_size, epochs):\n",
    "    \n",
    "    model.train()\n",
    "    accuracies, losses = [], []\n",
    "    \n",
    "    criterion = nn.NLLLoss(reduction='none')#\n",
    "    optimizer = torch.optim.SGD(model.parameters(), lr=0.01, momentum=0)\n",
    "    \n",
    "    for epoch in range(epochs):\n",
    "        with tqdm(train_loader, unit=\"batch\") as tepoch:\n",
    "            for data, target in tepoch:\n",
    "                \n",
    "                data = data.reshape((batch_size, 28*28))\n",
    "                data, target = data.to(device), target.to(device)\n",
    "                optimizer.zero_grad()\n",
    "                output = model(data)\n",
    "                maxit = torch.argmax(output, dim=1)\n",
    "                accuracy = (maxit==target).float().mean()\n",
    "                \n",
    "                loss = criterion(output, target)\n",
    "                loss = loss.mean()\n",
    "                losses.append(loss.item())\n",
    "                accuracies.append(accuracy.item())\n",
    "                loss.backward()\n",
    "                optimizer.step()\n",
    "                tepoch.set_postfix(loss = loss.item())\n",
    "\n",
    "    return losses, accuracies\n",
    "\n",
    "def test(model, device, data_loader, num_labels, batch_size):\n",
    "    \n",
    "    model.eval()\n",
    "    correct, total = np.zeros(num_labels), np.zeros(num_labels)\n",
    "    \n",
    "    for data in data_loader:\n",
    "        inputs, labels = data\n",
    "        inputs = inputs.reshape((batch_size, 28*28))\n",
    "        inputs = inputs.to(device).float()\n",
    "        labels = labels.to(device).long()\n",
    "        \n",
    "        outputs = model(inputs)\n",
    "        _,prediction = torch.max(outputs, 1)\n",
    "        \n",
    "        for i in range(num_labels):\n",
    "            relevant = (labels==i)\n",
    "            total[i] += relevant.sum().item()\n",
    "            correct[i] += (prediction[relevant] == labels[relevant]).sum().item()\n",
    "            \n",
    "    return correct, total\n",
    "\n",
    "class cheater_net(nn.Module):\n",
    "    def __init__(self):\n",
    "        super(cheater_net, self).__init__()\n",
    "        self.fc1 = nn.Linear(28*28, 128, bias=False)\n",
    "        self.fc2 = nn.Linear(128, 10, bias=False)\n",
    "        self.sm = nn.LogSoftmax(dim=1)\n",
    "    \n",
    "    def forward(self, x):\n",
    "        x = self.fc1(x)\n",
    "        x = F.relu(x)\n",
    "        x = self.fc2(x)\n",
    "        x = self.sm(x)\n",
    "        return x"
   ]
  },
  {
   "cell_type": "code",
   "execution_count": 14,
   "id": "f737f5dd",
   "metadata": {},
   "outputs": [
    {
     "data": {
      "application/vnd.jupyter.widget-view+json": {
       "model_id": "0f22e7de32e74998aed956f18830afc3",
       "version_major": 2,
       "version_minor": 0
      },
      "text/plain": [
       "  0%|          | 0/3750 [00:00<?, ?batch/s]"
      ]
     },
     "metadata": {},
     "output_type": "display_data"
    }
   ],
   "source": [
    "cheater = cheater_net().to(device)\n",
    "losses,accuracies = train(cheater, device, train_loader, batch_size, 1)"
   ]
  },
  {
   "cell_type": "code",
   "execution_count": 15,
   "id": "a2b1bf7e",
   "metadata": {},
   "outputs": [
    {
     "name": "stdout",
     "output_type": "stream",
     "text": [
      "accuracy:0.9407\n"
     ]
    },
    {
     "data": {
      "image/png": "[encoded data removed]",
      "text/plain": [
       "<Figure size 432x288 with 1 Axes>"
      ]
     },
     "metadata": {
      "needs_background": "light"
     },
     "output_type": "display_data"
    }
   ],
   "source": [
    "#plt.plot(accuracies, label=\"Accuracy\")\n",
    "plt.plot(losses/np.max(losses), label=\"Loss\")\n",
    "plt.legend()\n",
    "\n",
    "num_labels = mnist_test.targets.unique().numel()\n",
    "correct, total = test(cheater, device, test_loader, num_labels, batch_size)\n",
    "print(\"accuracy:{}\".format(correct.sum()/total.sum()))"
   ]
  },
  {
   "cell_type": "markdown",
   "id": "bf33ac13",
   "metadata": {},
   "source": [
    "\n",
    "---\n",
    "\n",
    "# NumPy Only\n",
    "\n"
   ]
  },
  {
   "cell_type": "markdown",
   "id": "28235c10",
   "metadata": {},
   "source": [
    "### BackProp\n",
    "\n",
    "**Crossentropy Cost, Softmax and derivatives**\n",
    "\n",
    "If we use a log-softmax operation on the final layer, a forward pass produces log probabilities. In this case we can use a negative log likelihood loss.\n",
    "\n",
    "$o^x_j:$ predicted probability of $x$ belonging to class $j$\n",
    "\n",
    "$ t^x_j:$ target value of $x$ for output neuron $j$\n",
    "\n",
    "Error $\\large E_X = - \\sum_k \\left[ t_k^x \\log(o_k^x) + (1-t_k^x) \\log(1-o_k^x) \\right]$\n",
    "\n",
    "$\\large \\frac{\\partial E_X}{\\partial o_j^x} = -\\frac{t_j^x}{o_j^x} + \\frac{1 - t^x_j}{1-o_j^x}$\n",
    "\n",
    "LogSoftMax derivative $\\large \\frac{\\partial LS}{z} = 1 - e^{LSM(z)}$"
   ]
  },
  {
   "cell_type": "code",
   "execution_count": 2,
   "id": "0f4f80a9",
   "metadata": {},
   "outputs": [],
   "source": [
    "# Load MNIST dataset\n",
    "x, y = fetch_openml('mnist_784', return_X_y=True)"
   ]
  },
  {
   "cell_type": "code",
   "execution_count": 3,
   "id": "e0abc218",
   "metadata": {},
   "outputs": [
    {
     "name": "stdout",
     "output_type": "stream",
     "text": [
      "Label=0\n"
     ]
    },
    {
     "data": {
      "image/png": "[encoded data removed]",
      "text/plain": [
       "<Figure size 432x288 with 1 Axes>"
      ]
     },
     "metadata": {
      "needs_background": "light"
     },
     "output_type": "display_data"
    }
   ],
   "source": [
    "# Set types, create a train-test split, and verify we understand the format by plotting an image.\n",
    "x = (x/255).astype('float32')\n",
    "y = y.astype('int32')\n",
    "\n",
    "x_train, x_test, y_train, y_test = train_test_split(x, y, test_size=0.15, random_state=1)\n",
    "\n",
    "\n",
    "x_train = x_train.to_numpy()\n",
    "y_train = y_train.to_numpy()\n",
    "x_test = x_test.to_numpy()\n",
    "y_test = y_test.to_numpy()\n",
    "\n",
    "\n",
    "print(\"Label={}\".format(y[1]))\n",
    "plt.imshow(x.iloc[1,:].to_numpy().reshape(28,28));"
   ]
  },
  {
   "cell_type": "code",
   "execution_count": 31,
   "id": "28827be6",
   "metadata": {},
   "outputs": [],
   "source": [
    "class MLP:\n",
    "    \n",
    "    def __init__(self, input_size, hidden_size, output_size):\n",
    "        self.input_size = input_size\n",
    "        self.hidden_size = hidden_size\n",
    "        self.output_size = output_size\n",
    "        \n",
    "        # Weight initialization\n",
    "        #self.W1 = np.random.randn(input_size, hidden_size).astype(\"float32\") / np.sqrt(input_size*hidden_size)\n",
    "        #self.W2 = np.random.randn(hidden_size, output_size).astype(\"float32\") / np.sqrt(hidden_size*output_size)\n",
    "        self.W1 = np.random.uniform(-1, 1, size=(input_size, hidden_size)).astype(\"float32\") / np.sqrt(input_size*hidden_size)\n",
    "        self.W2 = np.random.uniform(-1, 1, size=(hidden_size, output_size)).astype(\"float32\") / np.sqrt(hidden_size*output_size)\n",
    "        \n",
    "        \n",
    "    def forward(self, x, output):\n",
    "        # Forward pass: x = input data, output = labels (one-hot encoded)\n",
    "        self.fc1 = np.dot(x, self.W1)\n",
    "        self.relu1 = self.relu(self.fc1)\n",
    "        self.fc2 = np.dot(self.relu1, self.W2)\n",
    "        \n",
    "        # Equivalent to Logsoftmax but numerically stable (i.e. normalization of log probs)\n",
    "        self.lsm = self.fc2 - self.LogExpSum(self.fc2).reshape((-1, 1))        \n",
    "        \n",
    "        # Notice that due one-hot encoding in 'output', we are only computing loss for the target.\n",
    "        # This is sufficient as the LogSoftmax tends to produce a single significant number.\n",
    "        # (Make this negative via '-output' to yield an actual loss to minimize.)\n",
    "        self.loss = np.mean(-output * self.lsm, axis=1)\n",
    "        \n",
    "        \n",
    "    def backward(self, x, y, output):\n",
    "\n",
    "        self.d_output = -output / len(y)\n",
    "        # Derivative of LogSoftmax\n",
    "        self.dx_lsm = self.d_output - np.exp(self.lsm) * self.d_output.sum(axis=1).reshape((-1,1))\n",
    "        \n",
    "        # Derivative of layer 2: needed for SGD\n",
    "        self.d_W2 = np.dot(self.relu1.T, self.dx_lsm)\n",
    "        \n",
    "        self.dx_relu = np.dot(self.dx_lsm, self.W2.T)\n",
    "        self.dx_fc1 = (self.relu1 > 0).astype('float32') * self.dx_relu\n",
    "        \n",
    "        # Derivative of layer 1: needed for SGD\n",
    "        self.d_W1 = np.dot(x.T, self.dx_fc1)\n",
    "        \n",
    "        \n",
    "    def LogExpSum(self, d):\n",
    "        # https://gregorygundersen.com/blog/2020/02/09/log-sum-exp/\n",
    "        # This allows us to normalize vectors of log probabilities while ensuring\n",
    "        # the largest exponentiated term is exp(0) = 1. (Thanks George Hotz!)\n",
    "        c = d.max(axis=1)\n",
    "        return c + np.log(np.sum(np.exp(d - c.reshape((-1, 1))), axis=1))\n",
    "    \n",
    "    \n",
    "    def relu(self, x):\n",
    "        return np.maximum(x, 0)\n",
    "\n",
    "        \n",
    "    def evaluate(self, x, y):\n",
    "        # Evaluate network using data x on labels y.\n",
    "        output_test = np.zeros((len(y), np.max(y+1)))\n",
    "        output_test[range(len(y)), y] = 1    \n",
    "\n",
    "        model.forward(x, output_test)\n",
    "        ac = (np.argmax(model.lsm, axis=1) == y).sum() / len(y)\n",
    "        print(\"Accuracy on test set = %.2f\" % (ac))"
   ]
  },
  {
   "cell_type": "code",
   "execution_count": 42,
   "id": "21530961",
   "metadata": {},
   "outputs": [
    {
     "data": {
      "application/vnd.jupyter.widget-view+json": {
       "model_id": "19753725e26f48d58c2aa271dc0f818a",
       "version_major": 2,
       "version_minor": 0
      },
      "text/plain": [
       "  0%|          | 0/5000 [00:00<?, ?it/s]"
      ]
     },
     "metadata": {},
     "output_type": "display_data"
    }
   ],
   "source": [
    "# Initialize our MLP\n",
    "model = MLP(28*28, 128, 10)\n",
    "\n",
    "lr = 0.01\n",
    "batch_size = 128\n",
    "accuracies, losses = [], []\n",
    "\n",
    "for i in trange(5000):\n",
    "    \n",
    "    # Select batch-sized data\n",
    "    idx = np.random.randint(0, high=x_train.shape[0], size=batch_size)\n",
    "    x = x_train[idx,:]\n",
    "    y = y_train[idx]\n",
    "    \n",
    "    output = np.zeros((batch_size, np.max(y_train+1)))\n",
    "    output[range(batch_size), y] = 1    \n",
    "    \n",
    "    # Forward step\n",
    "    model.forward(x, output)\n",
    "    \n",
    "    # Compute and store loss + accuracy of current iteration\n",
    "    loss = model.loss.copy()\n",
    "    losses.append(loss.mean())\n",
    "    accuracy = (np.argmax(model.lsm, axis=1) == y).mean()\n",
    "    accuracies.append(accuracy)\n",
    "    \n",
    "    # Backprop\n",
    "    model.backward(x, y, output)\n",
    "    \n",
    "    # SGD for weight updates\n",
    "    model.W1 -= model.d_W1*lr \n",
    "    model.W2 -= model.d_W2*lr"
   ]
  },
  {
   "cell_type": "code",
   "execution_count": 43,
   "id": "cfea0fc8",
   "metadata": {},
   "outputs": [
    {
     "name": "stdout",
     "output_type": "stream",
     "text": [
      "Accuracy on test set = 0.90\n"
     ]
    },
    {
     "data": {
      "image/png": "[encoded data removed]",
      "text/plain": [
       "<Figure size 864x288 with 2 Axes>"
      ]
     },
     "metadata": {
      "needs_background": "light"
     },
     "output_type": "display_data"
    }
   ],
   "source": [
    "# Evaluate on test set\n",
    "model.evaluate(x_test, y_test)\n",
    "\n",
    "# Plot loss and accuracy across iterations\n",
    "fig, (ax1, ax2) = plt.subplots(1,2, figsize=(12,4))\n",
    "ax1.plot(losses); ax1.set_xlabel(\"Iterations\"); ax1.set_ylim([0, np.max(losses)*1.05])\n",
    "ax1.set_title(\"Loss\")\n",
    "ax2.plot(accuracies, color='orange'); ax2.set_xlabel(\"Iterations\"); ax2.set_ylim([0,1])\n",
    "ax2.set_title(\"Accuracy\");"
   ]
  },
  {
   "cell_type": "code",
   "execution_count": 79,
   "id": "28a5691b",
   "metadata": {},
   "outputs": [
    {
     "data": {
      "text/plain": [
       "array([1., 1., 1., 1., 1., 1., 1., 1., 1., 1., 1., 1., 1., 1., 1., 1., 1.,\n",
       "       1., 1., 1.])"
      ]
     },
     "execution_count": 79,
     "metadata": {},
     "output_type": "execute_result"
    }
   ],
   "source": [
    "# Checking that the LogSumExp operation works, by showing that exponentiating yields normalized\n",
    "# probability distributions.\n",
    "np.sum(np.exp(model.lsm[:20,:]),axis=1)"
   ]
  }
 ],
 "metadata": {
  "kernelspec": {
   "display_name": "Python 3 (ipykernel)",
   "language": "python",
   "name": "python3"
  },
  "language_info": {
   "codemirror_mode": {
    "name": "ipython",
    "version": 3
   },
   "file_extension": ".py",
   "mimetype": "text/x-python",
   "name": "python",
   "nbconvert_exporter": "python",
   "pygments_lexer": "ipython3",
   "version": "3.9.7"
  }
 },
 "nbformat": 4,
 "nbformat_minor": 5
}
